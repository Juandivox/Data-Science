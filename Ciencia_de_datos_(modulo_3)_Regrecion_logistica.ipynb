{
  "nbformat": 4,
  "nbformat_minor": 0,
  "metadata": {
    "colab": {
      "provenance": []
    },
    "kernelspec": {
      "name": "python3",
      "display_name": "Python 3"
    },
    "language_info": {
      "name": "python"
    }
  },
  "cells": [
    {
      "cell_type": "code",
      "execution_count": null,
      "metadata": {
        "id": "5MK2auUrGDtr"
      },
      "outputs": [],
      "source": [
        "#Librerias de mineria de datos\n",
        "\n",
        "import pandas as pd\n",
        "import numpy as np\n",
        "\n",
        "#Librerias para graficar\n",
        "import matplotlib.pyplot as plt\n",
        "\n",
        "#-----------------------------------------------------------------------------\n",
        "#importar el modelo a entrenar\n",
        "#importar la libreria para crear el dataframe de entrenamiento y prueba\n",
        "from sklearn.model_selection import train_test_split\n",
        "#importar el modelo a entrenar\n",
        "from sklearn.linear_model import LogisticRegression\n",
        "\n",
        "#-----------------------------------------------------------------------------\n",
        "#para graficar matrizes de confucion\n",
        "from sklearn.metrics import confusion_matrix\n",
        "from sklearn.metrics import ConfusionMatrixDisplay\n",
        "from sklearn.metrics import classification_report\n",
        "from sklearn.metrics import roc_curve,auc #auc es area bajo la curva\n",
        "from sklearn.metrics import RocCurveDisplay\n",
        "\n",
        "\n",
        "#para validar los datos se usa\n",
        "from sklearn.model_selection import KFold,cross_val_score,cross_val_predict\n",
        "\n",
        "from sklearn.preprocessing import MinMaxScaler #Para Escalar/Normalizar manteniendo la varianza"
      ]
    },
    {
      "cell_type": "code",
      "source": [
        "#importar dataset\n",
        "df=pd.read_csv(\"/content/EURUSD TENDENCIAL.csv\")\n",
        "#set=\";\" por si estan separados por otros caracteres"
      ],
      "metadata": {
        "id": "GKefM2M-HoqO"
      },
      "execution_count": null,
      "outputs": []
    },
    {
      "cell_type": "code",
      "source": [
        "df #Ver datos"
      ],
      "metadata": {
        "colab": {
          "base_uri": "https://localhost:8080/",
          "height": 424
        },
        "id": "Zw1YufejHzmZ",
        "outputId": "431be567-3fe4-4e3a-90eb-79fe39189f66"
      },
      "execution_count": null,
      "outputs": [
        {
          "output_type": "execute_result",
          "data": {
            "text/plain": [
              "      Unnamed: 0                 time     open     high      low    close  \\\n",
              "0              0  2022-02-28 14:00:00  1.11992  1.12083  1.11915  1.11929   \n",
              "1              1  2022-02-28 15:00:00  1.11929  1.12169  1.11794  1.12124   \n",
              "2              2  2022-02-28 16:00:00  1.12129  1.12298  1.12049  1.12222   \n",
              "3              3  2022-02-28 17:00:00  1.12219  1.12367  1.12009  1.12318   \n",
              "4              4  2022-02-28 18:00:00  1.12316  1.12466  1.12168  1.12246   \n",
              "...          ...                  ...      ...      ...      ...      ...   \n",
              "9995        9995  2023-10-05 01:00:00  1.05062  1.05086  1.05054  1.05064   \n",
              "9996        9996  2023-10-05 02:00:00  1.05064  1.05092  1.05053  1.05069   \n",
              "9997        9997  2023-10-05 03:00:00  1.05069  1.05221  1.05022  1.05202   \n",
              "9998        9998  2023-10-05 04:00:00  1.05201  1.05289  1.05201  1.05286   \n",
              "9999        9999  2023-10-05 05:00:00  1.05288  1.05290  1.05235  1.05262   \n",
              "\n",
              "      tick_volume  spread  real_volume  trend  trend_index  \n",
              "0            4399       0            0      0          0.0  \n",
              "1            5620       0            0      0          1.0  \n",
              "2            5052       0            0      0          2.0  \n",
              "3            6613       0            0      0          3.0  \n",
              "4            6232       0            0      0          4.0  \n",
              "...           ...     ...          ...    ...          ...  \n",
              "9995          563       0            0      1         31.0  \n",
              "9996          717       0            0      1         32.0  \n",
              "9997         1448       0            0      1         33.0  \n",
              "9998         2149       0            0      1         34.0  \n",
              "9999          321       0            0      0         67.0  \n",
              "\n",
              "[10000 rows x 11 columns]"
            ],
            "text/html": [
              "\n",
              "  <div id=\"df-f835aeea-f8b1-4e83-84f6-b65423a30cb3\" class=\"colab-df-container\">\n",
              "    <div>\n",
              "<style scoped>\n",
              "    .dataframe tbody tr th:only-of-type {\n",
              "        vertical-align: middle;\n",
              "    }\n",
              "\n",
              "    .dataframe tbody tr th {\n",
              "        vertical-align: top;\n",
              "    }\n",
              "\n",
              "    .dataframe thead th {\n",
              "        text-align: right;\n",
              "    }\n",
              "</style>\n",
              "<table border=\"1\" class=\"dataframe\">\n",
              "  <thead>\n",
              "    <tr style=\"text-align: right;\">\n",
              "      <th></th>\n",
              "      <th>Unnamed: 0</th>\n",
              "      <th>time</th>\n",
              "      <th>open</th>\n",
              "      <th>high</th>\n",
              "      <th>low</th>\n",
              "      <th>close</th>\n",
              "      <th>tick_volume</th>\n",
              "      <th>spread</th>\n",
              "      <th>real_volume</th>\n",
              "      <th>trend</th>\n",
              "      <th>trend_index</th>\n",
              "    </tr>\n",
              "  </thead>\n",
              "  <tbody>\n",
              "    <tr>\n",
              "      <th>0</th>\n",
              "      <td>0</td>\n",
              "      <td>2022-02-28 14:00:00</td>\n",
              "      <td>1.11992</td>\n",
              "      <td>1.12083</td>\n",
              "      <td>1.11915</td>\n",
              "      <td>1.11929</td>\n",
              "      <td>4399</td>\n",
              "      <td>0</td>\n",
              "      <td>0</td>\n",
              "      <td>0</td>\n",
              "      <td>0.0</td>\n",
              "    </tr>\n",
              "    <tr>\n",
              "      <th>1</th>\n",
              "      <td>1</td>\n",
              "      <td>2022-02-28 15:00:00</td>\n",
              "      <td>1.11929</td>\n",
              "      <td>1.12169</td>\n",
              "      <td>1.11794</td>\n",
              "      <td>1.12124</td>\n",
              "      <td>5620</td>\n",
              "      <td>0</td>\n",
              "      <td>0</td>\n",
              "      <td>0</td>\n",
              "      <td>1.0</td>\n",
              "    </tr>\n",
              "    <tr>\n",
              "      <th>2</th>\n",
              "      <td>2</td>\n",
              "      <td>2022-02-28 16:00:00</td>\n",
              "      <td>1.12129</td>\n",
              "      <td>1.12298</td>\n",
              "      <td>1.12049</td>\n",
              "      <td>1.12222</td>\n",
              "      <td>5052</td>\n",
              "      <td>0</td>\n",
              "      <td>0</td>\n",
              "      <td>0</td>\n",
              "      <td>2.0</td>\n",
              "    </tr>\n",
              "    <tr>\n",
              "      <th>3</th>\n",
              "      <td>3</td>\n",
              "      <td>2022-02-28 17:00:00</td>\n",
              "      <td>1.12219</td>\n",
              "      <td>1.12367</td>\n",
              "      <td>1.12009</td>\n",
              "      <td>1.12318</td>\n",
              "      <td>6613</td>\n",
              "      <td>0</td>\n",
              "      <td>0</td>\n",
              "      <td>0</td>\n",
              "      <td>3.0</td>\n",
              "    </tr>\n",
              "    <tr>\n",
              "      <th>4</th>\n",
              "      <td>4</td>\n",
              "      <td>2022-02-28 18:00:00</td>\n",
              "      <td>1.12316</td>\n",
              "      <td>1.12466</td>\n",
              "      <td>1.12168</td>\n",
              "      <td>1.12246</td>\n",
              "      <td>6232</td>\n",
              "      <td>0</td>\n",
              "      <td>0</td>\n",
              "      <td>0</td>\n",
              "      <td>4.0</td>\n",
              "    </tr>\n",
              "    <tr>\n",
              "      <th>...</th>\n",
              "      <td>...</td>\n",
              "      <td>...</td>\n",
              "      <td>...</td>\n",
              "      <td>...</td>\n",
              "      <td>...</td>\n",
              "      <td>...</td>\n",
              "      <td>...</td>\n",
              "      <td>...</td>\n",
              "      <td>...</td>\n",
              "      <td>...</td>\n",
              "      <td>...</td>\n",
              "    </tr>\n",
              "    <tr>\n",
              "      <th>9995</th>\n",
              "      <td>9995</td>\n",
              "      <td>2023-10-05 01:00:00</td>\n",
              "      <td>1.05062</td>\n",
              "      <td>1.05086</td>\n",
              "      <td>1.05054</td>\n",
              "      <td>1.05064</td>\n",
              "      <td>563</td>\n",
              "      <td>0</td>\n",
              "      <td>0</td>\n",
              "      <td>1</td>\n",
              "      <td>31.0</td>\n",
              "    </tr>\n",
              "    <tr>\n",
              "      <th>9996</th>\n",
              "      <td>9996</td>\n",
              "      <td>2023-10-05 02:00:00</td>\n",
              "      <td>1.05064</td>\n",
              "      <td>1.05092</td>\n",
              "      <td>1.05053</td>\n",
              "      <td>1.05069</td>\n",
              "      <td>717</td>\n",
              "      <td>0</td>\n",
              "      <td>0</td>\n",
              "      <td>1</td>\n",
              "      <td>32.0</td>\n",
              "    </tr>\n",
              "    <tr>\n",
              "      <th>9997</th>\n",
              "      <td>9997</td>\n",
              "      <td>2023-10-05 03:00:00</td>\n",
              "      <td>1.05069</td>\n",
              "      <td>1.05221</td>\n",
              "      <td>1.05022</td>\n",
              "      <td>1.05202</td>\n",
              "      <td>1448</td>\n",
              "      <td>0</td>\n",
              "      <td>0</td>\n",
              "      <td>1</td>\n",
              "      <td>33.0</td>\n",
              "    </tr>\n",
              "    <tr>\n",
              "      <th>9998</th>\n",
              "      <td>9998</td>\n",
              "      <td>2023-10-05 04:00:00</td>\n",
              "      <td>1.05201</td>\n",
              "      <td>1.05289</td>\n",
              "      <td>1.05201</td>\n",
              "      <td>1.05286</td>\n",
              "      <td>2149</td>\n",
              "      <td>0</td>\n",
              "      <td>0</td>\n",
              "      <td>1</td>\n",
              "      <td>34.0</td>\n",
              "    </tr>\n",
              "    <tr>\n",
              "      <th>9999</th>\n",
              "      <td>9999</td>\n",
              "      <td>2023-10-05 05:00:00</td>\n",
              "      <td>1.05288</td>\n",
              "      <td>1.05290</td>\n",
              "      <td>1.05235</td>\n",
              "      <td>1.05262</td>\n",
              "      <td>321</td>\n",
              "      <td>0</td>\n",
              "      <td>0</td>\n",
              "      <td>0</td>\n",
              "      <td>67.0</td>\n",
              "    </tr>\n",
              "  </tbody>\n",
              "</table>\n",
              "<p>10000 rows × 11 columns</p>\n",
              "</div>\n",
              "    <div class=\"colab-df-buttons\">\n",
              "\n",
              "  <div class=\"colab-df-container\">\n",
              "    <button class=\"colab-df-convert\" onclick=\"convertToInteractive('df-f835aeea-f8b1-4e83-84f6-b65423a30cb3')\"\n",
              "            title=\"Convert this dataframe to an interactive table.\"\n",
              "            style=\"display:none;\">\n",
              "\n",
              "  <svg xmlns=\"http://www.w3.org/2000/svg\" height=\"24px\" viewBox=\"0 -960 960 960\">\n",
              "    <path d=\"M120-120v-720h720v720H120Zm60-500h600v-160H180v160Zm220 220h160v-160H400v160Zm0 220h160v-160H400v160ZM180-400h160v-160H180v160Zm440 0h160v-160H620v160ZM180-180h160v-160H180v160Zm440 0h160v-160H620v160Z\"/>\n",
              "  </svg>\n",
              "    </button>\n",
              "\n",
              "  <style>\n",
              "    .colab-df-container {\n",
              "      display:flex;\n",
              "      gap: 12px;\n",
              "    }\n",
              "\n",
              "    .colab-df-convert {\n",
              "      background-color: #E8F0FE;\n",
              "      border: none;\n",
              "      border-radius: 50%;\n",
              "      cursor: pointer;\n",
              "      display: none;\n",
              "      fill: #1967D2;\n",
              "      height: 32px;\n",
              "      padding: 0 0 0 0;\n",
              "      width: 32px;\n",
              "    }\n",
              "\n",
              "    .colab-df-convert:hover {\n",
              "      background-color: #E2EBFA;\n",
              "      box-shadow: 0px 1px 2px rgba(60, 64, 67, 0.3), 0px 1px 3px 1px rgba(60, 64, 67, 0.15);\n",
              "      fill: #174EA6;\n",
              "    }\n",
              "\n",
              "    .colab-df-buttons div {\n",
              "      margin-bottom: 4px;\n",
              "    }\n",
              "\n",
              "    [theme=dark] .colab-df-convert {\n",
              "      background-color: #3B4455;\n",
              "      fill: #D2E3FC;\n",
              "    }\n",
              "\n",
              "    [theme=dark] .colab-df-convert:hover {\n",
              "      background-color: #434B5C;\n",
              "      box-shadow: 0px 1px 3px 1px rgba(0, 0, 0, 0.15);\n",
              "      filter: drop-shadow(0px 1px 2px rgba(0, 0, 0, 0.3));\n",
              "      fill: #FFFFFF;\n",
              "    }\n",
              "  </style>\n",
              "\n",
              "    <script>\n",
              "      const buttonEl =\n",
              "        document.querySelector('#df-f835aeea-f8b1-4e83-84f6-b65423a30cb3 button.colab-df-convert');\n",
              "      buttonEl.style.display =\n",
              "        google.colab.kernel.accessAllowed ? 'block' : 'none';\n",
              "\n",
              "      async function convertToInteractive(key) {\n",
              "        const element = document.querySelector('#df-f835aeea-f8b1-4e83-84f6-b65423a30cb3');\n",
              "        const dataTable =\n",
              "          await google.colab.kernel.invokeFunction('convertToInteractive',\n",
              "                                                    [key], {});\n",
              "        if (!dataTable) return;\n",
              "\n",
              "        const docLinkHtml = 'Like what you see? Visit the ' +\n",
              "          '<a target=\"_blank\" href=https://colab.research.google.com/notebooks/data_table.ipynb>data table notebook</a>'\n",
              "          + ' to learn more about interactive tables.';\n",
              "        element.innerHTML = '';\n",
              "        dataTable['output_type'] = 'display_data';\n",
              "        await google.colab.output.renderOutput(dataTable, element);\n",
              "        const docLink = document.createElement('div');\n",
              "        docLink.innerHTML = docLinkHtml;\n",
              "        element.appendChild(docLink);\n",
              "      }\n",
              "    </script>\n",
              "  </div>\n",
              "\n",
              "\n",
              "<div id=\"df-5926b97f-c642-4902-ac3e-a27e80461eee\">\n",
              "  <button class=\"colab-df-quickchart\" onclick=\"quickchart('df-5926b97f-c642-4902-ac3e-a27e80461eee')\"\n",
              "            title=\"Suggest charts.\"\n",
              "            style=\"display:none;\">\n",
              "\n",
              "<svg xmlns=\"http://www.w3.org/2000/svg\" height=\"24px\"viewBox=\"0 0 24 24\"\n",
              "     width=\"24px\">\n",
              "    <g>\n",
              "        <path d=\"M19 3H5c-1.1 0-2 .9-2 2v14c0 1.1.9 2 2 2h14c1.1 0 2-.9 2-2V5c0-1.1-.9-2-2-2zM9 17H7v-7h2v7zm4 0h-2V7h2v10zm4 0h-2v-4h2v4z\"/>\n",
              "    </g>\n",
              "</svg>\n",
              "  </button>\n",
              "\n",
              "<style>\n",
              "  .colab-df-quickchart {\n",
              "      --bg-color: #E8F0FE;\n",
              "      --fill-color: #1967D2;\n",
              "      --hover-bg-color: #E2EBFA;\n",
              "      --hover-fill-color: #174EA6;\n",
              "      --disabled-fill-color: #AAA;\n",
              "      --disabled-bg-color: #DDD;\n",
              "  }\n",
              "\n",
              "  [theme=dark] .colab-df-quickchart {\n",
              "      --bg-color: #3B4455;\n",
              "      --fill-color: #D2E3FC;\n",
              "      --hover-bg-color: #434B5C;\n",
              "      --hover-fill-color: #FFFFFF;\n",
              "      --disabled-bg-color: #3B4455;\n",
              "      --disabled-fill-color: #666;\n",
              "  }\n",
              "\n",
              "  .colab-df-quickchart {\n",
              "    background-color: var(--bg-color);\n",
              "    border: none;\n",
              "    border-radius: 50%;\n",
              "    cursor: pointer;\n",
              "    display: none;\n",
              "    fill: var(--fill-color);\n",
              "    height: 32px;\n",
              "    padding: 0;\n",
              "    width: 32px;\n",
              "  }\n",
              "\n",
              "  .colab-df-quickchart:hover {\n",
              "    background-color: var(--hover-bg-color);\n",
              "    box-shadow: 0 1px 2px rgba(60, 64, 67, 0.3), 0 1px 3px 1px rgba(60, 64, 67, 0.15);\n",
              "    fill: var(--button-hover-fill-color);\n",
              "  }\n",
              "\n",
              "  .colab-df-quickchart-complete:disabled,\n",
              "  .colab-df-quickchart-complete:disabled:hover {\n",
              "    background-color: var(--disabled-bg-color);\n",
              "    fill: var(--disabled-fill-color);\n",
              "    box-shadow: none;\n",
              "  }\n",
              "\n",
              "  .colab-df-spinner {\n",
              "    border: 2px solid var(--fill-color);\n",
              "    border-color: transparent;\n",
              "    border-bottom-color: var(--fill-color);\n",
              "    animation:\n",
              "      spin 1s steps(1) infinite;\n",
              "  }\n",
              "\n",
              "  @keyframes spin {\n",
              "    0% {\n",
              "      border-color: transparent;\n",
              "      border-bottom-color: var(--fill-color);\n",
              "      border-left-color: var(--fill-color);\n",
              "    }\n",
              "    20% {\n",
              "      border-color: transparent;\n",
              "      border-left-color: var(--fill-color);\n",
              "      border-top-color: var(--fill-color);\n",
              "    }\n",
              "    30% {\n",
              "      border-color: transparent;\n",
              "      border-left-color: var(--fill-color);\n",
              "      border-top-color: var(--fill-color);\n",
              "      border-right-color: var(--fill-color);\n",
              "    }\n",
              "    40% {\n",
              "      border-color: transparent;\n",
              "      border-right-color: var(--fill-color);\n",
              "      border-top-color: var(--fill-color);\n",
              "    }\n",
              "    60% {\n",
              "      border-color: transparent;\n",
              "      border-right-color: var(--fill-color);\n",
              "    }\n",
              "    80% {\n",
              "      border-color: transparent;\n",
              "      border-right-color: var(--fill-color);\n",
              "      border-bottom-color: var(--fill-color);\n",
              "    }\n",
              "    90% {\n",
              "      border-color: transparent;\n",
              "      border-bottom-color: var(--fill-color);\n",
              "    }\n",
              "  }\n",
              "</style>\n",
              "\n",
              "  <script>\n",
              "    async function quickchart(key) {\n",
              "      const quickchartButtonEl =\n",
              "        document.querySelector('#' + key + ' button');\n",
              "      quickchartButtonEl.disabled = true;  // To prevent multiple clicks.\n",
              "      quickchartButtonEl.classList.add('colab-df-spinner');\n",
              "      try {\n",
              "        const charts = await google.colab.kernel.invokeFunction(\n",
              "            'suggestCharts', [key], {});\n",
              "      } catch (error) {\n",
              "        console.error('Error during call to suggestCharts:', error);\n",
              "      }\n",
              "      quickchartButtonEl.classList.remove('colab-df-spinner');\n",
              "      quickchartButtonEl.classList.add('colab-df-quickchart-complete');\n",
              "    }\n",
              "    (() => {\n",
              "      let quickchartButtonEl =\n",
              "        document.querySelector('#df-5926b97f-c642-4902-ac3e-a27e80461eee button');\n",
              "      quickchartButtonEl.style.display =\n",
              "        google.colab.kernel.accessAllowed ? 'block' : 'none';\n",
              "    })();\n",
              "  </script>\n",
              "</div>\n",
              "    </div>\n",
              "  </div>\n"
            ]
          },
          "metadata": {},
          "execution_count": 3
        }
      ]
    },
    {
      "cell_type": "code",
      "source": [
        "df.isnull().sum()"
      ],
      "metadata": {
        "colab": {
          "base_uri": "https://localhost:8080/"
        },
        "id": "0AieATBMH08z",
        "outputId": "08a23901-df73-47f1-a257-cd4d0987d551"
      },
      "execution_count": null,
      "outputs": [
        {
          "output_type": "execute_result",
          "data": {
            "text/plain": [
              "Unnamed: 0     0\n",
              "time           0\n",
              "open           0\n",
              "high           0\n",
              "low            0\n",
              "close          0\n",
              "tick_volume    0\n",
              "spread         0\n",
              "real_volume    0\n",
              "trend          0\n",
              "trend_index    0\n",
              "dtype: int64"
            ]
          },
          "metadata": {},
          "execution_count": 4
        }
      ]
    },
    {
      "cell_type": "code",
      "source": [],
      "metadata": {
        "id": "MCwP_XdP7ru_"
      },
      "execution_count": null,
      "outputs": []
    },
    {
      "cell_type": "markdown",
      "source": [
        "#Paso 1 dividir la DATA"
      ],
      "metadata": {
        "id": "P5yu22E7MmNm"
      }
    },
    {
      "cell_type": "code",
      "source": [
        "X=df.drop(\"problema_cardiaco\", axis=1) #selecciono las caracteristicas\n",
        "y=df[\"problema_cardiaco\"]#selecciono la columna target\n",
        "\n",
        "escalador = MinMaxScaler()\n",
        "X = escalador.fit_transform(X)"
      ],
      "metadata": {
        "id": "ni_1wxVELLX3"
      },
      "execution_count": null,
      "outputs": []
    },
    {
      "cell_type": "code",
      "source": [
        "len(df) #tamaño"
      ],
      "metadata": {
        "colab": {
          "base_uri": "https://localhost:8080/"
        },
        "id": "2ER8ggxyOYnC",
        "outputId": "3103a4d0-f9fd-4317-cf2b-4e6f19471867"
      },
      "execution_count": null,
      "outputs": [
        {
          "output_type": "execute_result",
          "data": {
            "text/plain": [
              "302"
            ]
          },
          "metadata": {},
          "execution_count": 38
        }
      ]
    },
    {
      "cell_type": "code",
      "source": [
        "#Dividir los datos\n",
        "X_train,X_test,y_train,y_test=train_test_split(X,y,train_size=0.8,random_state=99999) #o test_size=0.2\n",
        "len(X_train),len(X_test)"
      ],
      "metadata": {
        "colab": {
          "base_uri": "https://localhost:8080/"
        },
        "id": "2t_k8maYD4os",
        "outputId": "3a49a80a-c909-4a45-dae0-8074ddbe9cbc"
      },
      "execution_count": null,
      "outputs": [
        {
          "output_type": "execute_result",
          "data": {
            "text/plain": [
              "(241, 61)"
            ]
          },
          "metadata": {},
          "execution_count": 60
        }
      ]
    },
    {
      "cell_type": "code",
      "source": [
        "#Vamos a escalar los datos (Normalizar)\n",
        "escalador = MinMaxScaler()\n",
        "X = escalador.fit_transform(X_train) #Se escalo los datos de entrenamiento\n",
        "X"
      ],
      "metadata": {
        "id": "p2YXXiTG_FKF"
      },
      "execution_count": null,
      "outputs": []
    },
    {
      "cell_type": "markdown",
      "source": [
        "##Exportar el normalizador"
      ],
      "metadata": {
        "id": "eZ2dAemEIg6e"
      }
    },
    {
      "cell_type": "code",
      "source": [
        "#GUARDAR NORNALIZADOR\n",
        "import joblib as jb\n",
        "jb.dump(escalador,\"escalador.bin\",compress = 1)"
      ],
      "metadata": {
        "colab": {
          "base_uri": "https://localhost:8080/"
        },
        "id": "O6i1LNDxAjA3",
        "outputId": "7d62858b-d024-42ef-c83d-2c40254fd893"
      },
      "execution_count": null,
      "outputs": [
        {
          "output_type": "execute_result",
          "data": {
            "text/plain": [
              "['escalador.bin']"
            ]
          },
          "metadata": {},
          "execution_count": 41
        }
      ]
    },
    {
      "cell_type": "markdown",
      "source": [
        "#Paso 2 Crear el modelo"
      ],
      "metadata": {
        "id": "AQxpuXvskgPo"
      }
    },
    {
      "cell_type": "code",
      "source": [
        "#Crear la instancia del modelo\n",
        "modeloRL = LogisticRegression()\n",
        "\n",
        "#Entrenar el modelo fit()\n",
        "modeloRL.fit(X_train,y_train)"
      ],
      "metadata": {
        "colab": {
          "base_uri": "https://localhost:8080/",
          "height": 74
        },
        "id": "utji0TCPSzCs",
        "outputId": "ef5a60ac-5fd6-42ef-9a6f-564966c8fe4d"
      },
      "execution_count": null,
      "outputs": [
        {
          "output_type": "execute_result",
          "data": {
            "text/plain": [
              "LogisticRegression()"
            ],
            "text/html": [
              "<style>#sk-container-id-3 {color: black;background-color: white;}#sk-container-id-3 pre{padding: 0;}#sk-container-id-3 div.sk-toggleable {background-color: white;}#sk-container-id-3 label.sk-toggleable__label {cursor: pointer;display: block;width: 100%;margin-bottom: 0;padding: 0.3em;box-sizing: border-box;text-align: center;}#sk-container-id-3 label.sk-toggleable__label-arrow:before {content: \"▸\";float: left;margin-right: 0.25em;color: #696969;}#sk-container-id-3 label.sk-toggleable__label-arrow:hover:before {color: black;}#sk-container-id-3 div.sk-estimator:hover label.sk-toggleable__label-arrow:before {color: black;}#sk-container-id-3 div.sk-toggleable__content {max-height: 0;max-width: 0;overflow: hidden;text-align: left;background-color: #f0f8ff;}#sk-container-id-3 div.sk-toggleable__content pre {margin: 0.2em;color: black;border-radius: 0.25em;background-color: #f0f8ff;}#sk-container-id-3 input.sk-toggleable__control:checked~div.sk-toggleable__content {max-height: 200px;max-width: 100%;overflow: auto;}#sk-container-id-3 input.sk-toggleable__control:checked~label.sk-toggleable__label-arrow:before {content: \"▾\";}#sk-container-id-3 div.sk-estimator input.sk-toggleable__control:checked~label.sk-toggleable__label {background-color: #d4ebff;}#sk-container-id-3 div.sk-label input.sk-toggleable__control:checked~label.sk-toggleable__label {background-color: #d4ebff;}#sk-container-id-3 input.sk-hidden--visually {border: 0;clip: rect(1px 1px 1px 1px);clip: rect(1px, 1px, 1px, 1px);height: 1px;margin: -1px;overflow: hidden;padding: 0;position: absolute;width: 1px;}#sk-container-id-3 div.sk-estimator {font-family: monospace;background-color: #f0f8ff;border: 1px dotted black;border-radius: 0.25em;box-sizing: border-box;margin-bottom: 0.5em;}#sk-container-id-3 div.sk-estimator:hover {background-color: #d4ebff;}#sk-container-id-3 div.sk-parallel-item::after {content: \"\";width: 100%;border-bottom: 1px solid gray;flex-grow: 1;}#sk-container-id-3 div.sk-label:hover label.sk-toggleable__label {background-color: #d4ebff;}#sk-container-id-3 div.sk-serial::before {content: \"\";position: absolute;border-left: 1px solid gray;box-sizing: border-box;top: 0;bottom: 0;left: 50%;z-index: 0;}#sk-container-id-3 div.sk-serial {display: flex;flex-direction: column;align-items: center;background-color: white;padding-right: 0.2em;padding-left: 0.2em;position: relative;}#sk-container-id-3 div.sk-item {position: relative;z-index: 1;}#sk-container-id-3 div.sk-parallel {display: flex;align-items: stretch;justify-content: center;background-color: white;position: relative;}#sk-container-id-3 div.sk-item::before, #sk-container-id-3 div.sk-parallel-item::before {content: \"\";position: absolute;border-left: 1px solid gray;box-sizing: border-box;top: 0;bottom: 0;left: 50%;z-index: -1;}#sk-container-id-3 div.sk-parallel-item {display: flex;flex-direction: column;z-index: 1;position: relative;background-color: white;}#sk-container-id-3 div.sk-parallel-item:first-child::after {align-self: flex-end;width: 50%;}#sk-container-id-3 div.sk-parallel-item:last-child::after {align-self: flex-start;width: 50%;}#sk-container-id-3 div.sk-parallel-item:only-child::after {width: 0;}#sk-container-id-3 div.sk-dashed-wrapped {border: 1px dashed gray;margin: 0 0.4em 0.5em 0.4em;box-sizing: border-box;padding-bottom: 0.4em;background-color: white;}#sk-container-id-3 div.sk-label label {font-family: monospace;font-weight: bold;display: inline-block;line-height: 1.2em;}#sk-container-id-3 div.sk-label-container {text-align: center;}#sk-container-id-3 div.sk-container {/* jupyter's `normalize.less` sets `[hidden] { display: none; }` but bootstrap.min.css set `[hidden] { display: none !important; }` so we also need the `!important` here to be able to override the default hidden behavior on the sphinx rendered scikit-learn.org. See: https://github.com/scikit-learn/scikit-learn/issues/21755 */display: inline-block !important;position: relative;}#sk-container-id-3 div.sk-text-repr-fallback {display: none;}</style><div id=\"sk-container-id-3\" class=\"sk-top-container\"><div class=\"sk-text-repr-fallback\"><pre>LogisticRegression()</pre><b>In a Jupyter environment, please rerun this cell to show the HTML representation or trust the notebook. <br />On GitHub, the HTML representation is unable to render, please try loading this page with nbviewer.org.</b></div><div class=\"sk-container\" hidden><div class=\"sk-item\"><div class=\"sk-estimator sk-toggleable\"><input class=\"sk-toggleable__control sk-hidden--visually\" id=\"sk-estimator-id-3\" type=\"checkbox\" checked><label for=\"sk-estimator-id-3\" class=\"sk-toggleable__label sk-toggleable__label-arrow\">LogisticRegression</label><div class=\"sk-toggleable__content\"><pre>LogisticRegression()</pre></div></div></div></div></div>"
            ]
          },
          "metadata": {},
          "execution_count": 61
        }
      ]
    },
    {
      "cell_type": "code",
      "source": [
        "#Evaluación\n",
        "a_train=modeloRL.score(X_train,y_train)*100\n",
        "a_test=modeloRL.score(X_test,y_test)*100\n",
        "print(\"Accuracy para los datos de entrenamiento {:.2f}\".format(a_train)) #{:.2f} es para que salgan dos decimales\n",
        "print(\"Accuracy para los datos de entrenamiento {:.2f}\".format(a_test))"
      ],
      "metadata": {
        "colab": {
          "base_uri": "https://localhost:8080/"
        },
        "id": "mgY9VTK-Bfb3",
        "outputId": "e015398b-5998-4b1a-842f-956eb82a0185"
      },
      "execution_count": null,
      "outputs": [
        {
          "output_type": "stream",
          "name": "stdout",
          "text": [
            "Accuracy para los datos de entrenamiento 78.42\n",
            "Accuracy para los datos de entrenamiento 77.05\n"
          ]
        }
      ]
    },
    {
      "cell_type": "markdown",
      "source": [
        "##Exportar / Importar el modelo"
      ],
      "metadata": {
        "id": "OlbeYuylXT6Y"
      }
    },
    {
      "cell_type": "code",
      "source": [
        "import joblib as jb\n",
        "jb.dump(modeloRL,\"ModeloNB.bin\",compress=True) # con esto se exporta el modelo entrenado"
      ],
      "metadata": {
        "colab": {
          "base_uri": "https://localhost:8080/"
        },
        "id": "rSunQGt-VU8z",
        "outputId": "73381f00-810a-4b94-ae91-b9db04da505d"
      },
      "execution_count": null,
      "outputs": [
        {
          "output_type": "execute_result",
          "data": {
            "text/plain": [
              "['ModeloNB.bin']"
            ]
          },
          "metadata": {},
          "execution_count": 63
        }
      ]
    },
    {
      "cell_type": "code",
      "source": [
        "#modeloE = jb.load(modeloRL,\"modeloAr.bin\",compress=True) # con esto se importa el modelo entrenado"
      ],
      "metadata": {
        "id": "Uty4W944WYum"
      },
      "execution_count": null,
      "outputs": []
    },
    {
      "cell_type": "markdown",
      "source": [
        "#Paso 3 Validar el modelo"
      ],
      "metadata": {
        "id": "fHNsFHlPXu6N"
      }
    },
    {
      "cell_type": "code",
      "source": [
        "# Validad el modelo\n",
        "y_prect=modeloRL.predict(X_test) #Porque es la caracteristica etiquetada\n",
        "y_prect"
      ],
      "metadata": {
        "colab": {
          "base_uri": "https://localhost:8080/"
        },
        "id": "PBohyPH_XBXX",
        "outputId": "113c9300-4a87-4c9c-9195-3521184f2219"
      },
      "execution_count": null,
      "outputs": [
        {
          "output_type": "execute_result",
          "data": {
            "text/plain": [
              "array([0, 0, 0, 1, 1, 1, 1, 0, 0, 1, 0, 1, 1, 1, 0, 0, 0, 0, 0, 1, 1, 0,\n",
              "       0, 1, 1, 1, 0, 0, 1, 1, 1, 0, 1, 0, 1, 1, 1, 0, 1, 0, 1, 1, 0, 1,\n",
              "       1, 1, 0, 0, 1, 1, 1, 0, 1, 1, 0, 1, 0, 0, 1, 1, 0])"
            ]
          },
          "metadata": {},
          "execution_count": 65
        }
      ]
    },
    {
      "cell_type": "code",
      "source": [
        "# Para visualizar la comparacion\n",
        "y_prect=modeloRL.predict(X_test) #Porque es la caracteristica etiquetada\n",
        "y_predictdf=pd.DataFrame(y_prect,columns=[\"prediccion\"])\n",
        "y_test_ordenado=y_test.reset_index(drop=True)\n",
        "comparativo=pd.concat([y_test_ordenado,y_predictdf],axis=1)\n",
        "print(comparativo.head(20))"
      ],
      "metadata": {
        "colab": {
          "base_uri": "https://localhost:8080/"
        },
        "id": "Fx9n8gngYMu8",
        "outputId": "2d3f0c79-54a7-44d9-d52d-686ac9724c87"
      },
      "execution_count": null,
      "outputs": [
        {
          "output_type": "stream",
          "name": "stdout",
          "text": [
            "    problema_cardiaco  prediccion\n",
            "0                   0           0\n",
            "1                   0           0\n",
            "2                   0           0\n",
            "3                   0           1\n",
            "4                   0           1\n",
            "5                   1           1\n",
            "6                   1           1\n",
            "7                   0           0\n",
            "8                   0           0\n",
            "9                   1           1\n",
            "10                  1           0\n",
            "11                  1           1\n",
            "12                  0           1\n",
            "13                  1           1\n",
            "14                  0           0\n",
            "15                  0           0\n",
            "16                  1           0\n",
            "17                  0           0\n",
            "18                  0           0\n",
            "19                  1           1\n"
          ]
        }
      ]
    },
    {
      "cell_type": "code",
      "source": [
        "#accuracy de los datos de entrenamiento / que tan presiso fue el modelo\n",
        "scoreTrain=modeloRL.score(X_train,y_train)\n",
        "print(scoreTrain,\"entrenamiento\")\n",
        "#accuracy de los datos de prueba\n",
        "#modeloNB.score(X_test,y_test)\n",
        "scoreTest=modeloRL.score(X_test,y_test)\n",
        "print(scoreTest,\"test\")\n",
        "resultados=[[\"Naive Bayes\",scoreTrain,scoreTest]]"
      ],
      "metadata": {
        "colab": {
          "base_uri": "https://localhost:8080/"
        },
        "id": "iLYIGofZYsPu",
        "outputId": "85bbccca-2655-456a-ed79-459db2a689cc"
      },
      "execution_count": null,
      "outputs": [
        {
          "output_type": "stream",
          "name": "stdout",
          "text": [
            "0.7842323651452282 entrenamiento\n",
            "0.7704918032786885 test\n"
          ]
        }
      ]
    },
    {
      "cell_type": "code",
      "source": [
        "matrix=confusion_matrix(y_test,y_prect)\n",
        "matrix"
      ],
      "metadata": {
        "colab": {
          "base_uri": "https://localhost:8080/"
        },
        "id": "KXMbdEKdgusw",
        "outputId": "9c52d394-3390-4424-ed61-51cd157bdfbf"
      },
      "execution_count": null,
      "outputs": [
        {
          "output_type": "execute_result",
          "data": {
            "text/plain": [
              "array([[24, 11],\n",
              "       [ 3, 23]])"
            ]
          },
          "metadata": {},
          "execution_count": 70
        }
      ]
    },
    {
      "cell_type": "code",
      "source": [
        "mostrarMatrix=ConfusionMatrixDisplay(confusion_matrix=matrix,display_labels=modeloRL.classes_)\n",
        "mostrarMatrix.plot()"
      ],
      "metadata": {
        "colab": {
          "base_uri": "https://localhost:8080/",
          "height": 466
        },
        "id": "9xwlOj6WgAx7",
        "outputId": "7f416807-a6ee-4eb3-ee8d-06ce860d53af"
      },
      "execution_count": null,
      "outputs": [
        {
          "output_type": "execute_result",
          "data": {
            "text/plain": [
              "<sklearn.metrics._plot.confusion_matrix.ConfusionMatrixDisplay at 0x7c1e29773d00>"
            ]
          },
          "metadata": {},
          "execution_count": 71
        },
        {
          "output_type": "display_data",
          "data": {
            "text/plain": [
              "<Figure size 640x480 with 2 Axes>"
            ],
            "image/png": "[encoded data removed]"
          },
          "metadata": {}
        }
      ]
    },
    {
      "cell_type": "code",
      "source": [
        "print(classification_report(y_test,y_prect))"
      ],
      "metadata": {
        "colab": {
          "base_uri": "https://localhost:8080/"
        },
        "id": "7FLrZMnniQIM",
        "outputId": "72bf1c75-65ec-4b93-d6de-4f81b73b2303"
      },
      "execution_count": null,
      "outputs": [
        {
          "output_type": "stream",
          "name": "stdout",
          "text": [
            "              precision    recall  f1-score   support\n",
            "\n",
            "           0       0.89      0.69      0.77        35\n",
            "           1       0.68      0.88      0.77        26\n",
            "\n",
            "    accuracy                           0.77        61\n",
            "   macro avg       0.78      0.79      0.77        61\n",
            "weighted avg       0.80      0.77      0.77        61\n",
            "\n"
          ]
        }
      ]
    },
    {
      "cell_type": "code",
      "source": [
        "# Curva de roc\n",
        "fpr,tpr,umbral=roc_curve(y_test,y_prect) #falsos postivos - verdaderos positivos\n",
        "#graficar la curva ROC\n",
        "plt.plot(fpr,tpr)\n",
        "plt.plot([0,1],[0,1],\"--\") #escala y el (--) funciona para colocar la linea diagonal\n",
        "plt.xlabel(\"Tasa Falso Positivos\")\n",
        "plt.ylabel(\"Tasa de verdaderos positivos\")\n",
        "plt.title(\"CURVA ROC\")\n",
        "plt.show()\n",
        "#Area bajo la curva\n",
        "print(\"Area bajo la curva\",auc(fpr,tpr))"
      ],
      "metadata": {
        "id": "vlaC60gUjTvB",
        "colab": {
          "base_uri": "https://localhost:8080/",
          "height": 489
        },
        "outputId": "4aaf5804-402e-4c59-e44b-54f476a93c59"
      },
      "execution_count": null,
      "outputs": [
        {
          "output_type": "display_data",
          "data": {
            "text/plain": [
              "<Figure size 640x480 with 1 Axes>"
            ],
            "image/png": "[encoded data removed]"
          },
          "metadata": {}
        },
        {
          "output_type": "stream",
          "name": "stdout",
          "text": [
            "Area bajo la curva 0.7851648351648352\n"
          ]
        }
      ]
    },
    {
      "cell_type": "markdown",
      "source": [
        "EL MARGEN DE ERROR MAXIMO QUE PODEMOS TENER ES DEL 10%"
      ],
      "metadata": {
        "id": "EGfHz7FcVcMS"
      }
    },
    {
      "cell_type": "markdown",
      "source": [
        "#Prueba del modelo Pasientes nuevos"
      ],
      "metadata": {
        "id": "80JgK81kIzXt"
      }
    },
    {
      "cell_type": "code",
      "source": [
        "nuevo = [[55,280],[66,320],[48,220]] #3 nuevos pasientes\n",
        "# se deben normaliazr\n",
        "dato_transformado = escalador.fit_transform(nuevo)"
      ],
      "metadata": {
        "id": "JzjQv49wd5L9"
      },
      "execution_count": null,
      "outputs": []
    },
    {
      "cell_type": "code",
      "source": [
        "prediccion = modeloRL.predict(nuevo)\n",
        "prediccion"
      ],
      "metadata": {
        "colab": {
          "base_uri": "https://localhost:8080/"
        },
        "id": "7P0TfYWueLIb",
        "outputId": "c4efff47-efa4-4ba9-eea6-87adf83c6d1c"
      },
      "execution_count": null,
      "outputs": [
        {
          "output_type": "execute_result",
          "data": {
            "text/plain": [
              "array([1, 1, 1])"
            ]
          },
          "metadata": {},
          "execution_count": 76
        }
      ]
    },
    {
      "cell_type": "markdown",
      "source": [
        "#class_weight - Optimizar el modelo\n",
        "\n"
      ],
      "metadata": {
        "id": "SuOfYUlbHvnc"
      }
    },
    {
      "cell_type": "code",
      "source": [
        "#Por defecto\n",
        "modeloRL = LogisticRegression(max_iter = 2000, verbose = 1, tol = 1e-6,class_weight=\"balanced\")\n",
        "#Entreno el modelo\n",
        "modeloRL.fit(X_train, y_train)\n",
        "\n",
        "#MAtriz de Confusión\n",
        "\n",
        "matrix=confusion_matrix(y_test,y_prect)\n",
        "mostrarMatrix=ConfusionMatrixDisplay(confusion_matrix=matrix,display_labels=modeloRL.classes_)\n",
        "mostrarMatrix.plot()"
      ],
      "metadata": {
        "colab": {
          "base_uri": "https://localhost:8080/",
          "height": 466
        },
        "id": "DsumOHjlHwXV",
        "outputId": "865af7f2-af9f-4bcb-cbef-bf57eef64f23"
      },
      "execution_count": null,
      "outputs": [
        {
          "output_type": "execute_result",
          "data": {
            "text/plain": [
              "<sklearn.metrics._plot.confusion_matrix.ConfusionMatrixDisplay at 0x7c1e2830eb30>"
            ]
          },
          "metadata": {},
          "execution_count": 77
        },
        {
          "output_type": "display_data",
          "data": {
            "text/plain": [
              "<Figure size 640x480 with 2 Axes>"
            ],
            "image/png": "[encoded data removed]"
          },
          "metadata": {}
        }
      ]
    },
    {
      "cell_type": "code",
      "source": [
        "#Se puede editar de distintas formas (Optimizar lo podemos encontrar en la pagina de su libreria)"
      ],
      "metadata": {
        "id": "XuShK_qRIHyw"
      },
      "execution_count": null,
      "outputs": []
    }
  ]
}